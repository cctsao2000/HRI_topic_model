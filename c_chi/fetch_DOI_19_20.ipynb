{
 "cells": [
  {
   "cell_type": "markdown",
   "metadata": {},
   "source": [
    "xpath=\"//*[@id='pb-page-content']/div/main/div[4]/div/div[2]/div[1]/div/div[2]\"\n",
    "postfix= \"/div/div/div[31]\"\n",
    "x= \"/div/div/a/button\"\n",
    "for i in range(5):\n",
    "    xpath= xpath+postfix\n",
    "    path= xpath+x\n",
    "    print(path)"
   ]
  },
  {
   "cell_type": "code",
   "execution_count": 1,
   "metadata": {},
   "outputs": [],
   "source": [
    "import requests\n",
    "import time\n",
    "from bs4 import BeautifulSoup\n",
    "from selenium import webdriver\n",
    "url=[\"10.1145/3290605\",\"10.1145/3313831\"]"
   ]
  },
  {
   "cell_type": "code",
   "execution_count": 2,
   "metadata": {},
   "outputs": [],
   "source": [
    "prefix = \"https://dl.acm.org/doi/proceedings/\"\n",
    "mother_page= prefix+url[1]"
   ]
  },
  {
   "cell_type": "code",
   "execution_count": 3,
   "metadata": {},
   "outputs": [],
   "source": [
    "rps = requests.get(mother_page)\n",
    "root= BeautifulSoup(rps.text, \"html.parser\")"
   ]
  },
  {
   "cell_type": "code",
   "execution_count": 4,
   "metadata": {},
   "outputs": [
    {
     "name": "stdout",
     "output_type": "stream",
     "text": [
      "758\n"
     ]
    }
   ],
   "source": [
    "import re\n",
    "showall= root.find(\"button\", class_=\"showAllProceedings btn stretched btn--inverse\")\n",
    "number=[int(s) for s in re.findall(r'-?\\d+\\.?\\d*', showall.string)]\n",
    "number= int(number[0])+30\n",
    "print(number)"
   ]
  },
  {
   "cell_type": "code",
   "execution_count": 5,
   "metadata": {},
   "outputs": [],
   "source": [
    "driver= webdriver.Chrome()\n",
    "driver.get(mother_page)"
   ]
  },
  {
   "cell_type": "code",
   "execution_count": 6,
   "metadata": {},
   "outputs": [
    {
     "name": "stdout",
     "output_type": "stream",
     "text": [
      "780\n"
     ]
    }
   ],
   "source": [
    "total_num=30\n",
    "while total_num<number:\n",
    "    driver.find_element_by_css_selector(\".showMoreProceedings.btn.stretched.btn--inverse\").click()\n",
    "    total_num= total_num+30\n",
    "    time.sleep(10)\n",
    "print(total_num)"
   ]
  },
  {
   "cell_type": "code",
   "execution_count": 7,
   "metadata": {},
   "outputs": [],
   "source": [
    "soup = BeautifulSoup(driver.page_source, \"html.parser\")\n",
    "tmp= soup.find_all(\"a\", class_= \"issue-item__doi dot-separator\")\n",
    "pt= soup.find_all(\"h5\", class_=\"issue-item__title\")"
   ]
  },
  {
   "cell_type": "code",
   "execution_count": 8,
   "metadata": {},
   "outputs": [],
   "source": [
    "paper_title=[]\n",
    "for i in range(len(pt)):\n",
    "    title= pt[i].contents\n",
    "    title= title[0]\n",
    "    paper_title.append(title.string)"
   ]
  },
  {
   "cell_type": "code",
   "execution_count": 9,
   "metadata": {},
   "outputs": [],
   "source": [
    "doi_value=[]\n",
    "for i in range(len(tmp)):\n",
    "    txt=tmp[i].string.split(\"/\",3)\n",
    "    doi_value.append(txt[3])"
   ]
  },
  {
   "cell_type": "code",
   "execution_count": 10,
   "metadata": {},
   "outputs": [
    {
     "name": "stdout",
     "output_type": "stream",
     "text": [
      "758\n",
      "758\n"
     ]
    }
   ],
   "source": [
    "print(len(doi_value))\n",
    "print(len(paper_title))"
   ]
  },
  {
   "cell_type": "code",
   "execution_count": 11,
   "metadata": {},
   "outputs": [
    {
     "name": "stdout",
     "output_type": "stream",
     "text": [
      "758\n",
      "758\n"
     ]
    },
    {
     "data": {
      "text/html": [
       "<div>\n",
       "<style scoped>\n",
       "    .dataframe tbody tr th:only-of-type {\n",
       "        vertical-align: middle;\n",
       "    }\n",
       "\n",
       "    .dataframe tbody tr th {\n",
       "        vertical-align: top;\n",
       "    }\n",
       "\n",
       "    .dataframe thead th {\n",
       "        text-align: right;\n",
       "    }\n",
       "</style>\n",
       "<table border=\"1\" class=\"dataframe\">\n",
       "  <thead>\n",
       "    <tr style=\"text-align: right;\">\n",
       "      <th></th>\n",
       "      <th>pname</th>\n",
       "      <th>doi</th>\n",
       "    </tr>\n",
       "  </thead>\n",
       "  <tbody>\n",
       "    <tr>\n",
       "      <th>0</th>\n",
       "      <td>Introducing Peripheral Awareness as a Neurolog...</td>\n",
       "      <td>10.1145/3313831.3376128</td>\n",
       "    </tr>\n",
       "    <tr>\n",
       "      <th>1</th>\n",
       "      <td>Venous Materials: Towards Interactive Fluidic ...</td>\n",
       "      <td>10.1145/3313831.3376129</td>\n",
       "    </tr>\n",
       "    <tr>\n",
       "      <th>2</th>\n",
       "      <td>Considering Parents in Coding Kit Design: Unde...</td>\n",
       "      <td>10.1145/3313831.3376130</td>\n",
       "    </tr>\n",
       "    <tr>\n",
       "      <th>3</th>\n",
       "      <td>If I Hear You Correctly: Building and Evaluati...</td>\n",
       "      <td>10.1145/3313831.3376131</td>\n",
       "    </tr>\n",
       "    <tr>\n",
       "      <th>4</th>\n",
       "      <td>BlyncSync: Enabling Multimodal Smartwatch Gest...</td>\n",
       "      <td>10.1145/3313831.3376132</td>\n",
       "    </tr>\n",
       "  </tbody>\n",
       "</table>\n",
       "</div>"
      ],
      "text/plain": [
       "                                               pname                      doi\n",
       "0  Introducing Peripheral Awareness as a Neurolog...  10.1145/3313831.3376128\n",
       "1  Venous Materials: Towards Interactive Fluidic ...  10.1145/3313831.3376129\n",
       "2  Considering Parents in Coding Kit Design: Unde...  10.1145/3313831.3376130\n",
       "3  If I Hear You Correctly: Building and Evaluati...  10.1145/3313831.3376131\n",
       "4  BlyncSync: Enabling Multimodal Smartwatch Gest...  10.1145/3313831.3376132"
      ]
     },
     "execution_count": 11,
     "metadata": {},
     "output_type": "execute_result"
    }
   ],
   "source": [
    "import pandas as pd\n",
    "print(len(paper_title))\n",
    "print(len(doi_value))\n",
    "df1= pd.DataFrame(paper_title,columns=['pname'])\n",
    "df2= pd.DataFrame(doi_value,columns=['doi'])\n",
    "details_for_csv=df1.join(df2)\n",
    "details_for_csv.shape\n",
    "details_for_csv.head()"
   ]
  },
  {
   "cell_type": "code",
   "execution_count": 13,
   "metadata": {},
   "outputs": [],
   "source": [
    "details_for_csv.to_csv(\"CHIpdf.csv\", mode='a', header=False)"
   ]
  }
 ],
 "metadata": {
  "kernelspec": {
   "display_name": "Python 3",
   "language": "python",
   "name": "python3"
  },
  "language_info": {
   "codemirror_mode": {
    "name": "ipython",
    "version": 3
   },
   "file_extension": ".py",
   "mimetype": "text/x-python",
   "name": "python",
   "nbconvert_exporter": "python",
   "pygments_lexer": "ipython3",
   "version": "3.8.5"
  }
 },
 "nbformat": 4,
 "nbformat_minor": 4
}
