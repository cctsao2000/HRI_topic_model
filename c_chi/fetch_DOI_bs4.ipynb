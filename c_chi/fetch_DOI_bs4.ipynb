{
 "cells": [
  {
   "cell_type": "markdown",
   "metadata": {},
   "source": [
    "# fetch each website by year"
   ]
  },
  {
   "cell_type": "code",
   "execution_count": 1,
   "metadata": {},
   "outputs": [],
   "source": [
    "import requests\n",
    "from bs4 import BeautifulSoup\n",
    "url=[\"10.1145/1124772\",\"10.1145/1240624\",\"10.1145/1357054\",\"10.1145/1518701\",\"10.1145/1753326\",\"10.1145/1978942\",\"10.1145/2207676\",\n",
    "    \"10.1145/2470654\",\"10.1145/2556288\",\"10.1145/2702123\",\"10.1145/2858036\",\"10.1145/3025453\",\"10.1145/3173574\",\"10.1145/3411764\"]"
   ]
  },
  {
   "cell_type": "code",
   "execution_count": 2,
   "metadata": {},
   "outputs": [],
   "source": [
    "rps = requests.get(\"https://dl.acm.org/doi/proceedings/\"+url[13])"
   ]
  },
  {
   "cell_type": "code",
   "execution_count": 3,
   "metadata": {},
   "outputs": [],
   "source": [
    "root= BeautifulSoup(rps.text, \"html.parser\")"
   ]
  },
  {
   "cell_type": "markdown",
   "metadata": {},
   "source": [
    "# open session pages and fetch DOI code"
   ]
  },
  {
   "cell_type": "code",
   "execution_count": 4,
   "metadata": {},
   "outputs": [],
   "source": [
    "ls=[]"
   ]
  },
  {
   "cell_type": "code",
   "execution_count": 5,
   "metadata": {},
   "outputs": [],
   "source": [
    "#loop 1~49\n",
    "#get how many session pages are there\n",
    "for i in range(1,50):\n",
    "    a= root.find(id=\"heading\"+str(i))\n",
    "    if(a != None):\n",
    "        ls.append(a)"
   ]
  },
  {
   "cell_type": "code",
   "execution_count": 6,
   "metadata": {},
   "outputs": [
    {
     "data": {
      "text/plain": [
       "'/doi/proceedings/10.1145/3411764?tocHeading=heading1'"
      ]
     },
     "execution_count": 6,
     "metadata": {},
     "output_type": "execute_result"
    }
   ],
   "source": [
    "ls[0].get(\"href\")\n",
    "#print(\"https://dl.acm.org\"+ls[i].get(\"href\"))"
   ]
  },
  {
   "cell_type": "code",
   "execution_count": 7,
   "metadata": {},
   "outputs": [],
   "source": [
    "doi_value=[]\n",
    "paper_title=[]"
   ]
  },
  {
   "cell_type": "code",
   "execution_count": 8,
   "metadata": {},
   "outputs": [],
   "source": [
    "#open each session page one by one\n",
    "#fetch paper titles by each session page\n",
    "for i in range(len(ls)):\n",
    "    session_page = requests.get(\"https://dl.acm.org\"+ls[i].get(\"href\"))#i=0~45\n",
    "    child_pg= BeautifulSoup(session_page.text, \"html.parser\")\n",
    "    tmp= child_pg.find_all(\"h5\", class_=\"issue-item__title\")\n",
    "    for i in range(len(tmp)):\n",
    "        title= tmp[i].contents\n",
    "        title= title[0]\n",
    "        paper_title.append(title.string)\n",
    "    #fetch doi hyper links by each session page\n",
    "    doi_link= child_pg.find_all(\"a\", class_= \"issue-item__doi dot-separator\")\n",
    "    #transfer doi_link to doi code\n",
    "    #doi code is located at [3]\n",
    "    for i in range(len(doi_link)):\n",
    "        txt=doi_link[i].string.split(\"/\",3)\n",
    "        doi_value.append(txt[3])"
   ]
  },
  {
   "cell_type": "code",
   "execution_count": 9,
   "metadata": {},
   "outputs": [
    {
     "name": "stdout",
     "output_type": "stream",
     "text": [
      "613\n",
      "613\n"
     ]
    }
   ],
   "source": [
    "import pandas as pd\n",
    "print(len(paper_title))\n",
    "print(len(doi_value))\n",
    "df1= pd.DataFrame(paper_title,columns=['pname'])\n",
    "df2= pd.DataFrame(doi_value,columns=['doi'])"
   ]
  },
  {
   "cell_type": "code",
   "execution_count": 10,
   "metadata": {},
   "outputs": [
    {
     "data": {
      "text/plain": [
       "(613, 2)"
      ]
     },
     "execution_count": 10,
     "metadata": {},
     "output_type": "execute_result"
    }
   ],
   "source": [
    "details_for_csv=df1.join(df2)\n",
    "details_for_csv.shape"
   ]
  },
  {
   "cell_type": "code",
   "execution_count": 11,
   "metadata": {},
   "outputs": [
    {
     "data": {
      "text/html": [
       "<div>\n",
       "<style scoped>\n",
       "    .dataframe tbody tr th:only-of-type {\n",
       "        vertical-align: middle;\n",
       "    }\n",
       "\n",
       "    .dataframe tbody tr th {\n",
       "        vertical-align: top;\n",
       "    }\n",
       "\n",
       "    .dataframe thead th {\n",
       "        text-align: right;\n",
       "    }\n",
       "</style>\n",
       "<table border=\"1\" class=\"dataframe\">\n",
       "  <thead>\n",
       "    <tr style=\"text-align: right;\">\n",
       "      <th></th>\n",
       "      <th>pname</th>\n",
       "      <th>doi</th>\n",
       "    </tr>\n",
       "  </thead>\n",
       "  <tbody>\n",
       "    <tr>\n",
       "      <th>0</th>\n",
       "      <td>LipType: A Silent Speech Recognizer Augmented ...</td>\n",
       "      <td>10.1145/3411764.3445565</td>\n",
       "    </tr>\n",
       "    <tr>\n",
       "      <th>1</th>\n",
       "      <td>Auth+Track: Enabling Authentication Free Inter...</td>\n",
       "      <td>10.1145/3411764.3445624</td>\n",
       "    </tr>\n",
       "    <tr>\n",
       "      <th>2</th>\n",
       "      <td>ElectroRing: Subtle Pinch and Touch Detection ...</td>\n",
       "      <td>10.1145/3411764.3445094</td>\n",
       "    </tr>\n",
       "    <tr>\n",
       "      <th>3</th>\n",
       "      <td>Project Tasca: Enabling Touch and Contextual I...</td>\n",
       "      <td>10.1145/3411764.3445712</td>\n",
       "    </tr>\n",
       "    <tr>\n",
       "      <th>4</th>\n",
       "      <td>RadarNet: Efficient Gesture Recognition Techni...</td>\n",
       "      <td>10.1145/3411764.3445367</td>\n",
       "    </tr>\n",
       "  </tbody>\n",
       "</table>\n",
       "</div>"
      ],
      "text/plain": [
       "                                               pname                      doi\n",
       "0  LipType: A Silent Speech Recognizer Augmented ...  10.1145/3411764.3445565\n",
       "1  Auth+Track: Enabling Authentication Free Inter...  10.1145/3411764.3445624\n",
       "2  ElectroRing: Subtle Pinch and Touch Detection ...  10.1145/3411764.3445094\n",
       "3  Project Tasca: Enabling Touch and Contextual I...  10.1145/3411764.3445712\n",
       "4  RadarNet: Efficient Gesture Recognition Techni...  10.1145/3411764.3445367"
      ]
     },
     "execution_count": 11,
     "metadata": {},
     "output_type": "execute_result"
    }
   ],
   "source": [
    "details_for_csv.head()"
   ]
  },
  {
   "cell_type": "code",
   "execution_count": 12,
   "metadata": {},
   "outputs": [],
   "source": [
    "details_for_csv.to_csv(\"CHIpdf.csv\", mode='a', header=False)"
   ]
  }
 ],
 "metadata": {
  "kernelspec": {
   "display_name": "Python 3",
   "language": "python",
   "name": "python3"
  },
  "language_info": {
   "codemirror_mode": {
    "name": "ipython",
    "version": 3
   },
   "file_extension": ".py",
   "mimetype": "text/x-python",
   "name": "python",
   "nbconvert_exporter": "python",
   "pygments_lexer": "ipython3",
   "version": "3.8.5"
  }
 },
 "nbformat": 4,
 "nbformat_minor": 4
}
